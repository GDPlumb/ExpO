{
 "cells": [
  {
   "cell_type": "code",
   "execution_count": 1,
   "metadata": {},
   "outputs": [],
   "source": [
    "import numpy as np\n",
    "import pandas as pd\n",
    "\n",
    "import matplotlib\n",
    "import matplotlib.pyplot as plt\n",
    "%matplotlib inline\n",
    "\n",
    "import seaborn as sns\n",
    "\n",
    "import logging\n",
    "logger = logging.getLogger()\n",
    "logger.setLevel(logging.DEBUG)"
   ]
  },
  {
   "cell_type": "markdown",
   "metadata": {},
   "source": [
    "## SUPPORT2 dataset"
   ]
  },
  {
   "cell_type": "code",
   "execution_count": 2,
   "metadata": {},
   "outputs": [],
   "source": [
    "# Load data.\n",
    "support2_df = pd.read_csv(\"../Datasets/support2.csv\", na_values=\"?\")"
   ]
  },
  {
   "cell_type": "code",
   "execution_count": 3,
   "metadata": {},
   "outputs": [
    {
     "data": {
      "text/plain": [
       "Index(['age', 'death', 'sex', 'hospdead', 'slos', 'd.time', 'dzgroup',\n",
       "       'dzclass', 'num.co', 'edu', 'income', 'scoma', 'charges', 'totcst',\n",
       "       'totmcst', 'avtisst', 'race', 'sps', 'aps', 'surv2m', 'surv6m', 'hday',\n",
       "       'diabetes', 'dementia', 'ca', 'prg2m', 'prg6m', 'dnr', 'dnrday',\n",
       "       'meanbp', 'wblc', 'hrt', 'resp', 'temp', 'pafi', 'alb', 'bili', 'crea',\n",
       "       'sod', 'ph', 'glucose', 'bun', 'urine', 'adlp', 'adls', 'sfdm2',\n",
       "       'adlsc'],\n",
       "      dtype='object')"
      ]
     },
     "execution_count": 3,
     "metadata": {},
     "output_type": "execute_result"
    }
   ],
   "source": [
    "support2_df.columns"
   ]
  },
  {
   "cell_type": "code",
   "execution_count": 4,
   "metadata": {},
   "outputs": [
    {
     "data": {
      "text/plain": [
       "count    9105.000000\n",
       "mean        0.259198\n",
       "std         0.438219\n",
       "min         0.000000\n",
       "25%         0.000000\n",
       "50%         0.000000\n",
       "75%         1.000000\n",
       "max         1.000000\n",
       "Name: hospdead, dtype: float64"
      ]
     },
     "execution_count": 4,
     "metadata": {},
     "output_type": "execute_result"
    }
   ],
   "source": [
    "support2_df.hospdead.describe()"
   ]
  },
  {
   "cell_type": "code",
   "execution_count": 6,
   "metadata": {},
   "outputs": [
    {
     "name": "stdout",
     "output_type": "stream",
     "text": [
      "/home/gregory/Desktop/ExpO/Code\n"
     ]
    }
   ],
   "source": [
    "# Change path as necessary.\n",
    "%cd ~/Desktop/ExpO/Code\n",
    "\n",
    "from sklearn.linear_model import LogisticRegression\n",
    "from sklearn.metrics import accuracy_score\n",
    "from MedicalData import Support2DataManager"
   ]
  },
  {
   "cell_type": "code",
   "execution_count": 7,
   "metadata": {},
   "outputs": [],
   "source": [
    "# Load data.\n",
    "dm = Support2DataManager(\"../Datasets/support2.csv\")"
   ]
  },
  {
   "cell_type": "code",
   "execution_count": 10,
   "metadata": {},
   "outputs": [
    {
     "name": "stdout",
     "output_type": "stream",
     "text": [
      "(4552, 51)\n",
      "(2276, 51)\n",
      "(2277, 51)\n",
      "9104\n"
     ]
    }
   ],
   "source": [
    "print(dm.X_train.shape)\n",
    "print(dm.X_val.shape)\n",
    "print(dm.X_test.shape)\n",
    "print(4552 + 2276 * 2)"
   ]
  },
  {
   "cell_type": "markdown",
   "metadata": {},
   "source": [
    "## Fit some simple baseline"
   ]
  },
  {
   "cell_type": "code",
   "execution_count": 46,
   "metadata": {},
   "outputs": [
    {
     "name": "stdout",
     "output_type": "stream",
     "text": [
      "convergence after 33 epochs took 0 seconds\n"
     ]
    },
    {
     "name": "stderr",
     "output_type": "stream",
     "text": [
      "[Parallel(n_jobs=1)]: Done   1 out of   1 | elapsed:    0.3s finished\n"
     ]
    }
   ],
   "source": [
    "# Fit and predict using a simple model (L1-regularized logistic regression).\n",
    "model = LogisticRegression(penalty=\"l1\", C=0.05, multi_class=\"multinomial\", solver=\"saga\", max_iter=5000, verbose=1)\n",
    "model.fit(dm.X_train, np.nonzero(dm.y_train)[1])\n",
    "\n",
    "p_train = model.predict(dm.X_train)\n",
    "p_val = model.predict(dm.X_val)\n",
    "p_test = model.predict(dm.X_test)"
   ]
  },
  {
   "cell_type": "code",
   "execution_count": 47,
   "metadata": {},
   "outputs": [
    {
     "name": "stdout",
     "output_type": "stream",
     "text": [
      "Train acc: 0.812829525483304\n",
      "Validation acc: 0.7943760984182777\n",
      "Test acc: 0.8146684233640755\n"
     ]
    }
   ],
   "source": [
    "# Evaluate.\n",
    "print(\"Train acc:\", accuracy_score(np.nonzero(dm.y_train)[1], p_train))\n",
    "print(\"Validation acc:\", accuracy_score(np.nonzero(dm.y_val)[1], p_val))\n",
    "print(\"Test acc:\", accuracy_score(np.nonzero(dm.y_test)[1], p_test))"
   ]
  },
  {
   "cell_type": "markdown",
   "metadata": {},
   "source": [
    "## Fit random forest"
   ]
  },
  {
   "cell_type": "code",
   "execution_count": 48,
   "metadata": {},
   "outputs": [],
   "source": [
    "from sklearn.ensemble import RandomForestClassifier"
   ]
  },
  {
   "cell_type": "code",
   "execution_count": 96,
   "metadata": {},
   "outputs": [
    {
     "name": "stderr",
     "output_type": "stream",
     "text": [
      "[Parallel(n_jobs=4)]: Done  42 tasks      | elapsed:    0.1s\n",
      "[Parallel(n_jobs=4)]: Done 192 tasks      | elapsed:    0.5s\n",
      "[Parallel(n_jobs=4)]: Done 442 tasks      | elapsed:    1.1s\n",
      "[Parallel(n_jobs=4)]: Done 792 tasks      | elapsed:    2.0s\n",
      "[Parallel(n_jobs=4)]: Done 1000 out of 1000 | elapsed:    2.5s finished\n",
      "[Parallel(n_jobs=4)]: Done  42 tasks      | elapsed:    0.0s\n",
      "[Parallel(n_jobs=4)]: Done 192 tasks      | elapsed:    0.1s\n",
      "[Parallel(n_jobs=4)]: Done 442 tasks      | elapsed:    0.2s\n",
      "[Parallel(n_jobs=4)]: Done 792 tasks      | elapsed:    0.3s\n",
      "[Parallel(n_jobs=4)]: Done 1000 out of 1000 | elapsed:    0.4s finished\n",
      "[Parallel(n_jobs=4)]: Done  42 tasks      | elapsed:    0.0s\n",
      "[Parallel(n_jobs=4)]: Done 192 tasks      | elapsed:    0.1s\n",
      "[Parallel(n_jobs=4)]: Done 442 tasks      | elapsed:    0.2s\n",
      "[Parallel(n_jobs=4)]: Done 792 tasks      | elapsed:    0.3s\n",
      "[Parallel(n_jobs=4)]: Done 1000 out of 1000 | elapsed:    0.3s finished\n",
      "[Parallel(n_jobs=4)]: Done  42 tasks      | elapsed:    0.0s\n",
      "[Parallel(n_jobs=4)]: Done 192 tasks      | elapsed:    0.1s\n",
      "[Parallel(n_jobs=4)]: Done 442 tasks      | elapsed:    0.2s\n",
      "[Parallel(n_jobs=4)]: Done 792 tasks      | elapsed:    0.3s\n",
      "[Parallel(n_jobs=4)]: Done 1000 out of 1000 | elapsed:    0.4s finished\n"
     ]
    }
   ],
   "source": [
    "# Fit and predict using a random forest.\n",
    "model = RandomForestClassifier(n_estimators=1000, max_depth=12, min_samples_split=8, min_samples_leaf=4, n_jobs=4, verbose=1)\n",
    "model.fit(dm.X_train, np.nonzero(dm.y_train)[1])\n",
    "\n",
    "p_train = model.predict(dm.X_train)\n",
    "p_val = model.predict(dm.X_val)\n",
    "p_test = model.predict(dm.X_test)"
   ]
  },
  {
   "cell_type": "code",
   "execution_count": 97,
   "metadata": {},
   "outputs": [
    {
     "name": "stdout",
     "output_type": "stream",
     "text": [
      "Train acc: 0.9389279437609842\n",
      "Validation acc: 0.7930579964850615\n",
      "Test acc: 0.8111550285463329\n"
     ]
    }
   ],
   "source": [
    "# Evaluate.\n",
    "print(\"Train acc:\", accuracy_score(np.nonzero(dm.y_train)[1], p_train))\n",
    "print(\"Validation acc:\", accuracy_score(np.nonzero(dm.y_val)[1], p_val))\n",
    "print(\"Test acc:\", accuracy_score(np.nonzero(dm.y_test)[1], p_test))"
   ]
  },
  {
   "cell_type": "markdown",
   "metadata": {},
   "source": [
    "## Fit XGBoost"
   ]
  },
  {
   "cell_type": "code",
   "execution_count": 98,
   "metadata": {},
   "outputs": [],
   "source": [
    "from sklearn.ensemble import GradientBoostingClassifier"
   ]
  },
  {
   "cell_type": "code",
   "execution_count": 136,
   "metadata": {
    "scrolled": true
   },
   "outputs": [
    {
     "name": "stdout",
     "output_type": "stream",
     "text": [
      "      Iter       Train Loss   Remaining Time \n",
      "         1           1.1821            1.62s\n",
      "         2           1.1270            1.62s\n",
      "         3           1.0810            1.51s\n",
      "         4           1.0423            1.54s\n",
      "         5           1.0094            1.78s\n",
      "         6           0.9811            1.75s\n",
      "         7           0.9570            1.72s\n",
      "         8           0.9348            1.70s\n",
      "         9           0.9157            1.69s\n",
      "        10           0.8987            1.64s\n",
      "        20           0.7966            1.66s\n",
      "        30           0.7579            1.64s\n",
      "        40           0.7301            1.51s\n",
      "        50           0.7117            1.37s\n",
      "        60           0.6958            1.27s\n",
      "        70           0.6826            1.17s\n",
      "        80           0.6709            1.04s\n",
      "        90           0.6607            0.94s\n",
      "       100           0.6501            0.85s\n",
      "       200           0.5652            0.00s\n"
     ]
    }
   ],
   "source": [
    "# Fit and predict using xgboost.\n",
    "model = GradientBoostingClassifier(n_estimators=200, learning_rate=0.1, max_depth=3, min_samples_split=10, min_samples_leaf=2, verbose=1)\n",
    "model.fit(dm.X_train, np.nonzero(dm.y_train)[1])\n",
    "\n",
    "p_train = model.predict(dm.X_train)\n",
    "p_val = model.predict(dm.X_val)\n",
    "p_test = model.predict(dm.X_test)"
   ]
  },
  {
   "cell_type": "code",
   "execution_count": 137,
   "metadata": {},
   "outputs": [
    {
     "name": "stdout",
     "output_type": "stream",
     "text": [
      "Train acc: 0.8811511423550088\n",
      "Validation acc: 0.7939367311072056\n",
      "Test acc: 0.8028107158541942\n"
     ]
    }
   ],
   "source": [
    "# Evaluate.\n",
    "print(\"Train acc:\", accuracy_score(np.nonzero(dm.y_train)[1], p_train))\n",
    "print(\"Validation acc:\", accuracy_score(np.nonzero(dm.y_val)[1], p_val))\n",
    "print(\"Test acc:\", accuracy_score(np.nonzero(dm.y_test)[1], p_test))"
   ]
  }
 ],
 "metadata": {
  "kernelspec": {
   "display_name": "Python 3",
   "language": "python",
   "name": "python3"
  },
  "language_info": {
   "codemirror_mode": {
    "name": "ipython",
    "version": 3
   },
   "file_extension": ".py",
   "mimetype": "text/x-python",
   "name": "python",
   "nbconvert_exporter": "python",
   "pygments_lexer": "ipython3",
   "version": "3.6.6"
  }
 },
 "nbformat": 4,
 "nbformat_minor": 2
}
