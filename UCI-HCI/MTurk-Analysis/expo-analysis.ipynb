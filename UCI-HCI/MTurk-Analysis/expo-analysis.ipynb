{
 "cells": [
  {
   "cell_type": "code",
   "execution_count": 44,
   "metadata": {},
   "outputs": [],
   "source": [
    "import pandas as pd\n",
    "import numpy as np\n",
    "import ast\n",
    "from scipy.stats import ttest_ind, chisquare\n",
    "import matplotlib.pyplot as plt"
   ]
  },
  {
   "cell_type": "code",
   "execution_count": 45,
   "metadata": {},
   "outputs": [],
   "source": [
    "df = pd.read_csv(\"expo-res-full.csv\", sep=\"|\")\n",
    "df[\"stepsA\"] = df[\"stepsA\"].apply(lambda x : ast.literal_eval(x))\n",
    "df[\"stepsB\"] = df[\"stepsB\"].apply(lambda x : ast.literal_eval(x))"
   ]
  },
  {
   "cell_type": "code",
   "execution_count": 46,
   "metadata": {},
   "outputs": [
    {
     "data": {
      "text/plain": [
       "(60, 11)"
      ]
     },
     "execution_count": 46,
     "metadata": {},
     "output_type": "execute_result"
    }
   ],
   "source": [
    "df = df.sort_values(by=[\"expoFirst\"])\n",
    "df.head()\n",
    "df.shape"
   ]
  },
  {
   "cell_type": "code",
   "execution_count": 41,
   "metadata": {},
   "outputs": [],
   "source": [
    "def drop(x):\n",
    "    if all(i < 100 for i in x[\"stepsA\"]) and all(i < 100 for i in x[\"stepsB\"]):\n",
    "        return 0\n",
    "    return 1\n",
    "df[\"drop\"] = df.apply(drop, axis=1)"
   ]
  },
  {
   "cell_type": "code",
   "execution_count": 42,
   "metadata": {},
   "outputs": [
    {
     "data": {
      "text/plain": [
       "29    Condition B had a tendency to swing wildly and...\n",
       "24                                      yes very useful\n",
       "58          The expectations differed to me each round.\n",
       "30    They both were well behaved at times and not o...\n",
       "34                       They were both about the same.\n",
       "35                        Didn't notice any differences\n",
       "37    The amount that changed seemed to be better an...\n",
       "38                                 It worked out better\n",
       "39    I really couldn't make a lot of sense out of e...\n",
       "41                        It was hard to see a pattern.\n",
       "43    B was helpful, but not as much as A, and B was...\n",
       "47                                        stayed stable\n",
       "49    That explanation makes more sense with how I p...\n",
       "53    i think they both did equally a good job overa...\n",
       "55                     Condition B was more consistent.\n",
       "20    Both seemed to match my expectations about the...\n",
       "59    It seemed to fluctuate, and I didn't feel one ...\n",
       "7     I also thought it was condition A. This was be...\n",
       "8     In Condition A the predictions seemed complete...\n",
       "18    While this one often overestimated things, it ...\n",
       "1     I felt that A was capable of providing me with...\n",
       "19           It was more in line with expected changes.\n",
       "10    Condition B matched my price expectation bette...\n",
       "11               It was easier to manipulate the resuls\n",
       "14    I feel that A operated in a manner that tended...\n",
       "13                                    same answer as #2\n",
       "45    The range felt smaller and i was less likely n...\n",
       "46    It would move the way I thought it would more ...\n",
       "21        They both seemed to act independent at times.\n",
       "44            This condition to me seem more realistic.\n",
       "50    It seemed to change more in line with what it ...\n",
       "4     Both seemed to match my expectations in some r...\n",
       "52                         easy task and quickly answer\n",
       "3     Condition A because the it seemed to change th...\n",
       "54    It is easier to navigate and understand influe...\n",
       "2     The actual price changes were closer to the pr...\n",
       "57    I just used math and picked whatever was close...\n",
       "5     just seemed more reasonable that it would act ...\n",
       "40    Again, not enough information is available to ...\n",
       "9                            It was simpler to complete\n",
       "36    Overall, Condition A had more instances where ...\n",
       "12    there was nt much difference from what i could...\n",
       "33        Just seemed to run more true than Condition B\n",
       "32    IT seemed clearer that the price would change ...\n",
       "15            I thought they both would perform evenly \n",
       "16          The higher the value the easier to hit goal\n",
       "28          It changed closer to what It said it would.\n",
       "27    When I made my selections, it seemed to make t...\n",
       "26                         easy task and quickly answer\n",
       "25                                   the price changing\n",
       "17                                         I feel this.\n",
       "42    Just watching the ranges change seem to make m...\n",
       "0     I didn't see much of a difference between the ...\n",
       "Name: expectationwhy, dtype: object"
      ]
     },
     "execution_count": 42,
     "metadata": {},
     "output_type": "execute_result"
    }
   ],
   "source": [
    "df = df[df[\"drop\"] != 1]\n",
    "df[\"expectationwhy\"]"
   ]
  },
  {
   "cell_type": "code",
   "execution_count": 47,
   "metadata": {},
   "outputs": [
    {
     "data": {
      "text/plain": [
       "(60, 11)"
      ]
     },
     "execution_count": 47,
     "metadata": {},
     "output_type": "execute_result"
    }
   ],
   "source": [
    "df.shape"
   ]
  },
  {
   "cell_type": "code",
   "execution_count": 48,
   "metadata": {},
   "outputs": [],
   "source": [
    "def expo_steps(x):\n",
    "    if x[\"expoFirst\"]:\n",
    "        return x[\"stepsA\"]\n",
    "    else: \n",
    "        return x[\"stepsB\"]\n",
    "def norm_steps(x):\n",
    "    if x[\"expoFirst\"]:\n",
    "        return x[\"stepsB\"]\n",
    "    else: \n",
    "        return x[\"stepsA\"]"
   ]
  },
  {
   "cell_type": "code",
   "execution_count": 49,
   "metadata": {},
   "outputs": [],
   "source": [
    "df[\"expoSteps\"] = df.apply(expo_steps, axis=1)\n",
    "df[\"normalSteps\"] = df.apply(norm_steps, axis=1)"
   ]
  },
  {
   "cell_type": "code",
   "execution_count": 50,
   "metadata": {},
   "outputs": [
    {
     "name": "stdout",
     "output_type": "stream",
     "text": [
      "12.132890365448505 15.44\n",
      "Ttest_indResult(statistic=-1.3738534290750153, pvalue=0.17000108214281864)\n"
     ]
    }
   ],
   "source": [
    "expo = df[\"expoSteps\"].sum()\n",
    "norm = df[\"normalSteps\"].sum()\n",
    "print(np.average(expo), np.average(norm))\n",
    "print(ttest_ind(expo, norm))"
   ]
  },
  {
   "cell_type": "code",
   "execution_count": 51,
   "metadata": {},
   "outputs": [
    {
     "data": {
      "text/plain": [
       "(array([287.,   9.,   2.,   1.,   1.,   0.,   0.,   0.,   0.,   1.]),\n",
       " array([  1. ,  40.6,  80.2, 119.8, 159.4, 199. , 238.6, 278.2, 317.8,\n",
       "        357.4, 397. ]),\n",
       " <a list of 10 Patch objects>)"
      ]
     },
     "execution_count": 51,
     "metadata": {},
     "output_type": "execute_result"
    },
    {
     "data": {
      "image/png": "[encoded data removed]",
      "text/plain": [
       "<Figure size 432x288 with 1 Axes>"
      ]
     },
     "metadata": {
      "needs_background": "light"
     },
     "output_type": "display_data"
    }
   ],
   "source": [
    "plt.hist(expo)"
   ]
  },
  {
   "cell_type": "code",
   "execution_count": 52,
   "metadata": {},
   "outputs": [
    {
     "data": {
      "text/plain": [
       "(array([268.,  17.,   8.,   1.,   1.,   0.,   3.,   1.,   0.,   1.]),\n",
       " array([  1. ,  27.5,  54. ,  80.5, 107. , 133.5, 160. , 186.5, 213. ,\n",
       "        239.5, 266. ]),\n",
       " <a list of 10 Patch objects>)"
      ]
     },
     "execution_count": 52,
     "metadata": {},
     "output_type": "execute_result"
    },
    {
     "data": {
      "image/png": "[encoded data removed]",
      "text/plain": [
       "<Figure size 432x288 with 1 Axes>"
      ]
     },
     "metadata": {
      "needs_background": "light"
     },
     "output_type": "display_data"
    }
   ],
   "source": [
    "plt.hist(norm)"
   ]
  },
  {
   "cell_type": "code",
   "execution_count": 27,
   "metadata": {},
   "outputs": [],
   "source": [
    "def agree_exp(x):\n",
    "    if not x[\"expoFirst\"] and x[\"expectationbinary\"] == -1: \n",
    "        return 1\n",
    "    if x[\"expoFirst\"] and x[\"expectationbinary\"] == 1:\n",
    "        return 1\n",
    "    if x[\"expectationbinary\"] == 0:\n",
    "        return 0\n",
    "    return -1\n",
    "\n",
    "def agree_use(x):\n",
    "    if not x[\"expoFirst\"] and x[\"usefulBinary\"] == -1: \n",
    "        return 1\n",
    "    if x[\"expoFirst\"] and x[\"usefulBinary\"] == 1:\n",
    "        return 1\n",
    "    if x[\"usefulBinary\"] == 0:\n",
    "        return 0\n",
    "    return -1"
   ]
  },
  {
   "cell_type": "code",
   "execution_count": 28,
   "metadata": {},
   "outputs": [],
   "source": [
    "df[\"expAgree\"] = df.apply(agree_exp, axis=1)\n",
    "df[\"useAgree\"] = df.apply(agree_use, axis=1)"
   ]
  },
  {
   "cell_type": "code",
   "execution_count": 29,
   "metadata": {},
   "outputs": [
    {
     "name": "stdout",
     "output_type": "stream",
     "text": [
      "[25, 17, 11] [27, 15, 11]\n"
     ]
    }
   ],
   "source": [
    "exp = list(df[\"expAgree\"].value_counts())\n",
    "use = list(df[\"useAgree\"].value_counts())\n",
    "print(exp, use)"
   ]
  },
  {
   "cell_type": "code",
   "execution_count": 30,
   "metadata": {},
   "outputs": [
    {
     "data": {
      "text/plain": [
       "Power_divergenceResult(statistic=5.584905660377357, pvalue=0.06127074272286635)"
      ]
     },
     "execution_count": 30,
     "metadata": {},
     "output_type": "execute_result"
    }
   ],
   "source": [
    "chisquare(exp)"
   ]
  },
  {
   "cell_type": "code",
   "execution_count": 31,
   "metadata": {},
   "outputs": [
    {
     "data": {
      "text/plain": [
       "Power_divergenceResult(statistic=7.849056603773584, pvalue=0.01975145139685507)"
      ]
     },
     "execution_count": 31,
     "metadata": {},
     "output_type": "execute_result"
    }
   ],
   "source": [
    "chisquare(use)"
   ]
  },
  {
   "cell_type": "code",
   "execution_count": null,
   "metadata": {},
   "outputs": [],
   "source": []
  }
 ],
 "metadata": {
  "kernelspec": {
   "display_name": "Python 3",
   "language": "python",
   "name": "python3"
  },
  "language_info": {
   "codemirror_mode": {
    "name": "ipython",
    "version": 3
   },
   "file_extension": ".py",
   "mimetype": "text/x-python",
   "name": "python",
   "nbconvert_exporter": "python",
   "pygments_lexer": "ipython3",
   "version": "3.7.4"
  }
 },
 "nbformat": 4,
 "nbformat_minor": 4
}
