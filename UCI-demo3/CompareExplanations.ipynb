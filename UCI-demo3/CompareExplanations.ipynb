{
 "cells": [
  {
   "cell_type": "code",
   "execution_count": 1,
   "metadata": {},
   "outputs": [],
   "source": [
    "import json\n",
    "from lime import lime_tabular #pip install lime\n",
    "import numpy as np\n",
    "import os\n",
    "import sys\n",
    "import tensorflow as tf\n",
    "\n",
    "sys.path.insert(0, os.path.join(os.getcwd(), \"../Code/\"))\n",
    "from Data import DataManager\n",
    "from ExplanationMetrics import Wrapper, generate_neighbor\n",
    "from Models import MLP\n",
    "\n",
    "# The networks are small enough that training is faster on CPU\n",
    "os.environ[\"CUDA_VISIBLE_DEVICES\"]=\"-1\"\n",
    "\n",
    "def unpack_coefs(explainer, x, predict_fn, num_features, x_train, num_samples = 1000):\n",
    "    d = x_train.shape[1]\n",
    "    coefs = np.zeros((d))\n",
    "\n",
    "    u = np.mean(x_train, axis = 0)\n",
    "    sd = np.sqrt(np.var(x_train, axis = 0))\n",
    "\n",
    "    exp = explainer.explain_instance(x, predict_fn, num_features = num_features, num_samples = num_samples)\n",
    "\n",
    "    coef_pairs = exp.local_exp[1]\n",
    "    for pair in coef_pairs:\n",
    "        coefs[pair[0]] = pair[1]\n",
    "\n",
    "    coefs = coefs / sd\n",
    "\n",
    "    intercept = exp.intercept[1] - np.sum(coefs * u)\n",
    "\n",
    "    return np.insert(coefs, 0, intercept)\n",
    "\n"
   ]
  },
  {
   "cell_type": "code",
   "execution_count": 2,
   "metadata": {},
   "outputs": [
    {
     "name": "stdout",
     "output_type": "stream",
     "text": [
      "[ 0.55578371  2.45552053  1.0290794   0.92879049  1.39480671  1.03968118\n",
      " -1.15996953  1.62497316  1.5049378   0.79688198  0.4389692   0.11085877]\n"
     ]
    }
   ],
   "source": [
    "# Choose the point that we are going to explain\n",
    "\n",
    "data = DataManager(\"../Datasets/housing.csv\")\n",
    "\n",
    "X_train = data.X_train\n",
    "\n",
    "x = data.X_test[0]\n",
    "n_input = x.shape[0]\n",
    "\n",
    "print(x)"
   ]
  },
  {
   "cell_type": "code",
   "execution_count": 3,
   "metadata": {},
   "outputs": [
    {
     "name": "stdout",
     "output_type": "stream",
     "text": [
      "[12, 100, 100, 100, 100, 100, 1]\n"
     ]
    }
   ],
   "source": [
    "# Load the network shape\n",
    "\n",
    "with open(\"../UCI-None/config.json\", \"r\") as f:\n",
    "    config_list = json.load(f)\n",
    "    \n",
    "config = config_list[\"housing\"]\n",
    "\n",
    "shape = [n_input]\n",
    "for i in range(config[0]):\n",
    "    shape.append(config[1])\n",
    "shape.append(1)\n",
    "\n",
    "print(shape)"
   ]
  },
  {
   "cell_type": "code",
   "execution_count": 4,
   "metadata": {},
   "outputs": [],
   "source": [
    "# Create the model\n",
    "\n",
    "tf.reset_default_graph()\n",
    "\n",
    "X = tf.placeholder(\"float\", [None, n_input], name = \"X_in\")\n",
    "\n",
    "network = MLP(shape)\n",
    "with tf.variable_scope(\"model\", reuse = tf.AUTO_REUSE):\n",
    "    pred = network.model(X)\n",
    "    \n",
    "saver = tf.train.Saver(max_to_keep = 1)"
   ]
  },
  {
   "cell_type": "code",
   "execution_count": 5,
   "metadata": {},
   "outputs": [
    {
     "name": "stdout",
     "output_type": "stream",
     "text": [
      "INFO:tensorflow:Restoring parameters from ./None/model.cpkt\n",
      "Local Explanation:  [ 0.11  0.01 -0.05  0.1  -0.23  0.22 -0.08 -0.38  0.24 -0.27 -0.11  0.12\n",
      " -0.34]\n",
      "Fidelity Metric:  1.1464940983520875\n"
     ]
    }
   ],
   "source": [
    "# Evaluate LIME on the unregularized model (copy of UCI-None/NoL2Reg/TF/housing/..../trial0)\n",
    "\n",
    "with tf.Session() as sess:\n",
    "    # Restore model\n",
    "    saver.restore(sess, \"./None/model.cpkt\")\n",
    "    \n",
    "    # Wrap it for LIME\n",
    "    wrapper = Wrapper(sess, pred, X)\n",
    "    wrapper.set_index(0)\n",
    "    \n",
    "    # Configure LIME\n",
    "    exp = lime_tabular.LimeTabularExplainer(X_train, discretize_continuous = False, mode = \"regression\")\n",
    "    \n",
    "    # Get the explanation for the chosen point\n",
    "    coefs = unpack_coefs(exp, x, wrapper.predict_index, n_input, X_train)\n",
    "    \n",
    "    print(\"Local Explanation: \", np.round(coefs, 2))\n",
    "        \n",
    "    # Evaluate the fidelity metric\n",
    "    fidelity = 0.0\n",
    "    for i in range(10):\n",
    "        x_pert = generate_neighbor(x)\n",
    "\n",
    "        model_pred = wrapper.predict_index(x_pert.reshape(1, n_input))\n",
    "        lime_pred = np.dot(np.insert(x_pert, 0, 1), coefs)\n",
    "        fidelity += (lime_pred - model_pred)**2\n",
    "    fidelity /= 10\n",
    "                                           \n",
    "    print(\"Fidelity Metric: \", fidelity)\n"
   ]
  },
  {
   "cell_type": "code",
   "execution_count": 6,
   "metadata": {},
   "outputs": [
    {
     "name": "stdout",
     "output_type": "stream",
     "text": [
      "INFO:tensorflow:Restoring parameters from ./ExpO/model.cpkt\n",
      "Local Explanation:  [-0.04  0.04 -0.03 -0.01 -0.18  0.2   0.02 -0.15  0.17 -0.11 -0.14 -0.01\n",
      " -0.53]\n",
      "Fidelity Metric:  0.017843739472360298\n"
     ]
    }
   ],
   "source": [
    "# Load the ExpO regularized model (copy of UCI-LF1D/TF/housing/..../trial0)\n",
    "\n",
    "with tf.Session() as sess:\n",
    "    saver.restore(sess, \"./ExpO/model.cpkt\")\n",
    "    \n",
    "    # Wrap it for LIME\n",
    "    wrapper = Wrapper(sess, pred, X)\n",
    "    wrapper.set_index(0)\n",
    "    \n",
    "    # Configure LIME\n",
    "    exp = lime_tabular.LimeTabularExplainer(X_train, discretize_continuous = False, mode = \"regression\")\n",
    "    \n",
    "    # Get the explanation for the chosen point\n",
    "    coefs = unpack_coefs(exp, x, wrapper.predict_index, n_input, X_train)\n",
    "    \n",
    "    print(\"Local Explanation: \", np.round(coefs, 2))\n",
    "    \n",
    "    # Evaluate the fidelity metric\n",
    "    fidelity = 0.0\n",
    "    for i in range(10):\n",
    "        x_pert = generate_neighbor(x)\n",
    "\n",
    "        model_pred = wrapper.predict_index(x_pert.reshape(1, n_input))\n",
    "        lime_pred = np.dot(np.insert(x_pert, 0, 1), coefs)\n",
    "        fidelity += (lime_pred - model_pred)**2\n",
    "    fidelity /= 10\n",
    "                                           \n",
    "    print(\"Fidelity Metric: \", fidelity)\n"
   ]
  },
  {
   "cell_type": "code",
   "execution_count": null,
   "metadata": {},
   "outputs": [],
   "source": []
  }
 ],
 "metadata": {
  "kernelspec": {
   "display_name": "Python 3",
   "language": "python",
   "name": "python3"
  },
  "language_info": {
   "codemirror_mode": {
    "name": "ipython",
    "version": 3
   },
   "file_extension": ".py",
   "mimetype": "text/x-python",
   "name": "python",
   "nbconvert_exporter": "python",
   "pygments_lexer": "ipython3",
   "version": "3.6.8"
  }
 },
 "nbformat": 4,
 "nbformat_minor": 2
}
